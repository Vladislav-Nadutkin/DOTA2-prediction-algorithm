{
 "cells": [
  {
   "cell_type": "markdown",
   "id": "48bc7ea7-e6bb-49e6-9d6f-2e7f778a62a2",
   "metadata": {},
   "source": [
    "# Предсказание победы в игре Dota 2"
   ]
  },
  {
   "cell_type": "markdown",
   "id": "017da811-1d7c-4100-b085-c3761c9c04e5",
   "metadata": {},
   "source": [
    "## Необходимые библиотеки и классы"
   ]
  },
  {
   "cell_type": "code",
   "execution_count": 1,
   "id": "e13c9057-d409-4fb9-adfd-46fdae6eb4c2",
   "metadata": {},
   "outputs": [],
   "source": [
    "import sklearn\n",
    "import pandas as pd\n",
    "import numpy as np\n",
    "from sklearn import model_selection, ensemble\n",
    "from sklearn.metrics import roc_auc_score\n",
    "from sklearn.preprocessing import StandardScaler"
   ]
  },
  {
   "cell_type": "markdown",
   "id": "46f22af2-4e46-42fe-be6d-d0c428da621a",
   "metadata": {},
   "source": [
    "## Функция для подсчёта метрики rocauc"
   ]
  },
  {
   "cell_type": "code",
   "execution_count": 2,
   "id": "49e7b74c-5a11-461f-bee3-c7ced1036b28",
   "metadata": {},
   "outputs": [],
   "source": [
    "def rocauc (estimator, X, y):\n",
    "    pred = estimator.predict_proba(X)[:, 1]\n",
    "    score = sklearn.metrics.roc_auc_score(y, pred)\n",
    "    return score"
   ]
  },
  {
   "cell_type": "markdown",
   "id": "81f148f5-0d9a-4eeb-bd97-cd656c6afc11",
   "metadata": {},
   "source": [
    "## Анализируемый датафрейм"
   ]
  },
  {
   "cell_type": "markdown",
   "id": "7b2547e0-c7f0-4f0d-abcd-15a67f4799cc",
   "metadata": {},
   "source": [
    "#### Считываю таблицу с признаками из файла features.csv"
   ]
  },
  {
   "cell_type": "code",
   "execution_count": 3,
   "id": "25d1853b-4c49-4594-bc44-1b033b6133bd",
   "metadata": {},
   "outputs": [
    {
     "name": "stdout",
     "output_type": "stream",
     "text": [
      "          start_time  lobby_type  r1_hero  r1_level  r1_xp  r1_gold  r1_lh  \\\n",
      "match_id                                                                     \n",
      "0         1430198770           7       11         5   2098     1489     20   \n",
      "1         1430220345           0       42         4   1188     1033      9   \n",
      "2         1430227081           7       33         4   1319     1270     22   \n",
      "3         1430263531           1       29         4   1779     1056     14   \n",
      "4         1430282290           7       13         4   1431     1090      8   \n",
      "...              ...         ...      ...       ...    ...      ...    ...   \n",
      "114402    1450265551           1       47         4   1706     1198     17   \n",
      "114403    1450277704           0       43         4   1793     1416     17   \n",
      "114404    1450291848           1       98         4   1399      540      1   \n",
      "114405    1450292986           1      100         3   1135      766      6   \n",
      "114406    1450313370           7       50         3   1053      799      7   \n",
      "\n",
      "          r1_kills  r1_deaths  r1_items  ...  dire_boots_count  \\\n",
      "match_id                                 ...                     \n",
      "0                0          0         7  ...                 4   \n",
      "1                0          1        12  ...                 4   \n",
      "2                0          0        12  ...                 4   \n",
      "3                0          0         5  ...                 4   \n",
      "4                1          0         8  ...                 3   \n",
      "...            ...        ...       ...  ...               ...   \n",
      "114402           0          1         8  ...                 4   \n",
      "114403           0          1         5  ...                 3   \n",
      "114404           0          0         5  ...                 1   \n",
      "114405           0          2         6  ...                 3   \n",
      "114406           0          0         7  ...                 3   \n",
      "\n",
      "          dire_ward_observer_count  dire_ward_sentry_count  \\\n",
      "match_id                                                     \n",
      "0                                2                       2   \n",
      "1                                3                       1   \n",
      "2                                3                       1   \n",
      "3                                2                       0   \n",
      "4                                3                       0   \n",
      "...                            ...                     ...   \n",
      "114402                           3                       0   \n",
      "114403                           2                       0   \n",
      "114404                           3                       1   \n",
      "114405                           3                       1   \n",
      "114406                           2                       0   \n",
      "\n",
      "          dire_first_ward_time  duration  radiant_win  tower_status_radiant  \\\n",
      "match_id                                                                      \n",
      "0                        -52.0      2874            1                  1796   \n",
      "1                         -5.0      2463            1                  1974   \n",
      "2                         13.0      2130            0                     0   \n",
      "3                         27.0      1459            0                  1920   \n",
      "4                        -16.0      2449            0                     4   \n",
      "...                        ...       ...          ...                   ...   \n",
      "114402                   -24.0      2032            0                  1792   \n",
      "114403                   -17.0      1734            1                  2038   \n",
      "114404                   -15.0      2906            0                  1796   \n",
      "114405                   -42.0       951            0                  2039   \n",
      "114406                   -39.0      2086            1                  1982   \n",
      "\n",
      "          tower_status_dire  barracks_status_radiant  barracks_status_dire  \n",
      "match_id                                                                    \n",
      "0                         0                       51                     0  \n",
      "1                         0                       63                     1  \n",
      "2                      1830                        0                    63  \n",
      "3                      2047                       50                    63  \n",
      "4                      1974                        3                    63  \n",
      "...                     ...                      ...                   ...  \n",
      "114402                 1975                       48                    63  \n",
      "114403                    6                       63                     3  \n",
      "114404                 1846                       51                    63  \n",
      "114405                 2047                       63                    63  \n",
      "114406                    0                       63                     0  \n",
      "\n",
      "[97230 rows x 108 columns]\n"
     ]
    },
    {
     "name": "stderr",
     "output_type": "stream",
     "text": [
      "C:\\Users\\aniri\\AppData\\Local\\Temp\\ipykernel_12800\\1331978564.py:4: FutureWarning: Series.__getitem__ treating keys as positions is deprecated. In a future version, integer keys will always be treated as labels (consistent with DataFrame behavior). To access a value by position, use `ser.iloc[pos]`\n",
      "  if data.count()[i] != data.shape[0]:\n",
      "C:\\Users\\aniri\\AppData\\Local\\Temp\\ipykernel_12800\\1331978564.py:4: FutureWarning: Series.__getitem__ treating keys as positions is deprecated. In a future version, integer keys will always be treated as labels (consistent with DataFrame behavior). To access a value by position, use `ser.iloc[pos]`\n",
      "  if data.count()[i] != data.shape[0]:\n",
      "C:\\Users\\aniri\\AppData\\Local\\Temp\\ipykernel_12800\\1331978564.py:4: FutureWarning: Series.__getitem__ treating keys as positions is deprecated. In a future version, integer keys will always be treated as labels (consistent with DataFrame behavior). To access a value by position, use `ser.iloc[pos]`\n",
      "  if data.count()[i] != data.shape[0]:\n",
      "C:\\Users\\aniri\\AppData\\Local\\Temp\\ipykernel_12800\\1331978564.py:4: FutureWarning: Series.__getitem__ treating keys as positions is deprecated. In a future version, integer keys will always be treated as labels (consistent with DataFrame behavior). To access a value by position, use `ser.iloc[pos]`\n",
      "  if data.count()[i] != data.shape[0]:\n",
      "C:\\Users\\aniri\\AppData\\Local\\Temp\\ipykernel_12800\\1331978564.py:4: FutureWarning: Series.__getitem__ treating keys as positions is deprecated. In a future version, integer keys will always be treated as labels (consistent with DataFrame behavior). To access a value by position, use `ser.iloc[pos]`\n",
      "  if data.count()[i] != data.shape[0]:\n",
      "C:\\Users\\aniri\\AppData\\Local\\Temp\\ipykernel_12800\\1331978564.py:4: FutureWarning: Series.__getitem__ treating keys as positions is deprecated. In a future version, integer keys will always be treated as labels (consistent with DataFrame behavior). To access a value by position, use `ser.iloc[pos]`\n",
      "  if data.count()[i] != data.shape[0]:\n",
      "C:\\Users\\aniri\\AppData\\Local\\Temp\\ipykernel_12800\\1331978564.py:4: FutureWarning: Series.__getitem__ treating keys as positions is deprecated. In a future version, integer keys will always be treated as labels (consistent with DataFrame behavior). To access a value by position, use `ser.iloc[pos]`\n",
      "  if data.count()[i] != data.shape[0]:\n",
      "C:\\Users\\aniri\\AppData\\Local\\Temp\\ipykernel_12800\\1331978564.py:4: FutureWarning: Series.__getitem__ treating keys as positions is deprecated. In a future version, integer keys will always be treated as labels (consistent with DataFrame behavior). To access a value by position, use `ser.iloc[pos]`\n",
      "  if data.count()[i] != data.shape[0]:\n",
      "C:\\Users\\aniri\\AppData\\Local\\Temp\\ipykernel_12800\\1331978564.py:4: FutureWarning: Series.__getitem__ treating keys as positions is deprecated. In a future version, integer keys will always be treated as labels (consistent with DataFrame behavior). To access a value by position, use `ser.iloc[pos]`\n",
      "  if data.count()[i] != data.shape[0]:\n",
      "C:\\Users\\aniri\\AppData\\Local\\Temp\\ipykernel_12800\\1331978564.py:4: FutureWarning: Series.__getitem__ treating keys as positions is deprecated. In a future version, integer keys will always be treated as labels (consistent with DataFrame behavior). To access a value by position, use `ser.iloc[pos]`\n",
      "  if data.count()[i] != data.shape[0]:\n",
      "C:\\Users\\aniri\\AppData\\Local\\Temp\\ipykernel_12800\\1331978564.py:4: FutureWarning: Series.__getitem__ treating keys as positions is deprecated. In a future version, integer keys will always be treated as labels (consistent with DataFrame behavior). To access a value by position, use `ser.iloc[pos]`\n",
      "  if data.count()[i] != data.shape[0]:\n",
      "C:\\Users\\aniri\\AppData\\Local\\Temp\\ipykernel_12800\\1331978564.py:4: FutureWarning: Series.__getitem__ treating keys as positions is deprecated. In a future version, integer keys will always be treated as labels (consistent with DataFrame behavior). To access a value by position, use `ser.iloc[pos]`\n",
      "  if data.count()[i] != data.shape[0]:\n",
      "C:\\Users\\aniri\\AppData\\Local\\Temp\\ipykernel_12800\\1331978564.py:4: FutureWarning: Series.__getitem__ treating keys as positions is deprecated. In a future version, integer keys will always be treated as labels (consistent with DataFrame behavior). To access a value by position, use `ser.iloc[pos]`\n",
      "  if data.count()[i] != data.shape[0]:\n",
      "C:\\Users\\aniri\\AppData\\Local\\Temp\\ipykernel_12800\\1331978564.py:4: FutureWarning: Series.__getitem__ treating keys as positions is deprecated. In a future version, integer keys will always be treated as labels (consistent with DataFrame behavior). To access a value by position, use `ser.iloc[pos]`\n",
      "  if data.count()[i] != data.shape[0]:\n",
      "C:\\Users\\aniri\\AppData\\Local\\Temp\\ipykernel_12800\\1331978564.py:4: FutureWarning: Series.__getitem__ treating keys as positions is deprecated. In a future version, integer keys will always be treated as labels (consistent with DataFrame behavior). To access a value by position, use `ser.iloc[pos]`\n",
      "  if data.count()[i] != data.shape[0]:\n",
      "C:\\Users\\aniri\\AppData\\Local\\Temp\\ipykernel_12800\\1331978564.py:4: FutureWarning: Series.__getitem__ treating keys as positions is deprecated. In a future version, integer keys will always be treated as labels (consistent with DataFrame behavior). To access a value by position, use `ser.iloc[pos]`\n",
      "  if data.count()[i] != data.shape[0]:\n",
      "C:\\Users\\aniri\\AppData\\Local\\Temp\\ipykernel_12800\\1331978564.py:4: FutureWarning: Series.__getitem__ treating keys as positions is deprecated. In a future version, integer keys will always be treated as labels (consistent with DataFrame behavior). To access a value by position, use `ser.iloc[pos]`\n",
      "  if data.count()[i] != data.shape[0]:\n",
      "C:\\Users\\aniri\\AppData\\Local\\Temp\\ipykernel_12800\\1331978564.py:4: FutureWarning: Series.__getitem__ treating keys as positions is deprecated. In a future version, integer keys will always be treated as labels (consistent with DataFrame behavior). To access a value by position, use `ser.iloc[pos]`\n",
      "  if data.count()[i] != data.shape[0]:\n",
      "C:\\Users\\aniri\\AppData\\Local\\Temp\\ipykernel_12800\\1331978564.py:4: FutureWarning: Series.__getitem__ treating keys as positions is deprecated. In a future version, integer keys will always be treated as labels (consistent with DataFrame behavior). To access a value by position, use `ser.iloc[pos]`\n",
      "  if data.count()[i] != data.shape[0]:\n",
      "C:\\Users\\aniri\\AppData\\Local\\Temp\\ipykernel_12800\\1331978564.py:4: FutureWarning: Series.__getitem__ treating keys as positions is deprecated. In a future version, integer keys will always be treated as labels (consistent with DataFrame behavior). To access a value by position, use `ser.iloc[pos]`\n",
      "  if data.count()[i] != data.shape[0]:\n",
      "C:\\Users\\aniri\\AppData\\Local\\Temp\\ipykernel_12800\\1331978564.py:4: FutureWarning: Series.__getitem__ treating keys as positions is deprecated. In a future version, integer keys will always be treated as labels (consistent with DataFrame behavior). To access a value by position, use `ser.iloc[pos]`\n",
      "  if data.count()[i] != data.shape[0]:\n",
      "C:\\Users\\aniri\\AppData\\Local\\Temp\\ipykernel_12800\\1331978564.py:4: FutureWarning: Series.__getitem__ treating keys as positions is deprecated. In a future version, integer keys will always be treated as labels (consistent with DataFrame behavior). To access a value by position, use `ser.iloc[pos]`\n",
      "  if data.count()[i] != data.shape[0]:\n",
      "C:\\Users\\aniri\\AppData\\Local\\Temp\\ipykernel_12800\\1331978564.py:4: FutureWarning: Series.__getitem__ treating keys as positions is deprecated. In a future version, integer keys will always be treated as labels (consistent with DataFrame behavior). To access a value by position, use `ser.iloc[pos]`\n",
      "  if data.count()[i] != data.shape[0]:\n",
      "C:\\Users\\aniri\\AppData\\Local\\Temp\\ipykernel_12800\\1331978564.py:4: FutureWarning: Series.__getitem__ treating keys as positions is deprecated. In a future version, integer keys will always be treated as labels (consistent with DataFrame behavior). To access a value by position, use `ser.iloc[pos]`\n",
      "  if data.count()[i] != data.shape[0]:\n",
      "C:\\Users\\aniri\\AppData\\Local\\Temp\\ipykernel_12800\\1331978564.py:4: FutureWarning: Series.__getitem__ treating keys as positions is deprecated. In a future version, integer keys will always be treated as labels (consistent with DataFrame behavior). To access a value by position, use `ser.iloc[pos]`\n",
      "  if data.count()[i] != data.shape[0]:\n",
      "C:\\Users\\aniri\\AppData\\Local\\Temp\\ipykernel_12800\\1331978564.py:4: FutureWarning: Series.__getitem__ treating keys as positions is deprecated. In a future version, integer keys will always be treated as labels (consistent with DataFrame behavior). To access a value by position, use `ser.iloc[pos]`\n",
      "  if data.count()[i] != data.shape[0]:\n",
      "C:\\Users\\aniri\\AppData\\Local\\Temp\\ipykernel_12800\\1331978564.py:4: FutureWarning: Series.__getitem__ treating keys as positions is deprecated. In a future version, integer keys will always be treated as labels (consistent with DataFrame behavior). To access a value by position, use `ser.iloc[pos]`\n",
      "  if data.count()[i] != data.shape[0]:\n",
      "C:\\Users\\aniri\\AppData\\Local\\Temp\\ipykernel_12800\\1331978564.py:4: FutureWarning: Series.__getitem__ treating keys as positions is deprecated. In a future version, integer keys will always be treated as labels (consistent with DataFrame behavior). To access a value by position, use `ser.iloc[pos]`\n",
      "  if data.count()[i] != data.shape[0]:\n",
      "C:\\Users\\aniri\\AppData\\Local\\Temp\\ipykernel_12800\\1331978564.py:4: FutureWarning: Series.__getitem__ treating keys as positions is deprecated. In a future version, integer keys will always be treated as labels (consistent with DataFrame behavior). To access a value by position, use `ser.iloc[pos]`\n",
      "  if data.count()[i] != data.shape[0]:\n",
      "C:\\Users\\aniri\\AppData\\Local\\Temp\\ipykernel_12800\\1331978564.py:4: FutureWarning: Series.__getitem__ treating keys as positions is deprecated. In a future version, integer keys will always be treated as labels (consistent with DataFrame behavior). To access a value by position, use `ser.iloc[pos]`\n",
      "  if data.count()[i] != data.shape[0]:\n",
      "C:\\Users\\aniri\\AppData\\Local\\Temp\\ipykernel_12800\\1331978564.py:4: FutureWarning: Series.__getitem__ treating keys as positions is deprecated. In a future version, integer keys will always be treated as labels (consistent with DataFrame behavior). To access a value by position, use `ser.iloc[pos]`\n",
      "  if data.count()[i] != data.shape[0]:\n",
      "C:\\Users\\aniri\\AppData\\Local\\Temp\\ipykernel_12800\\1331978564.py:4: FutureWarning: Series.__getitem__ treating keys as positions is deprecated. In a future version, integer keys will always be treated as labels (consistent with DataFrame behavior). To access a value by position, use `ser.iloc[pos]`\n",
      "  if data.count()[i] != data.shape[0]:\n",
      "C:\\Users\\aniri\\AppData\\Local\\Temp\\ipykernel_12800\\1331978564.py:4: FutureWarning: Series.__getitem__ treating keys as positions is deprecated. In a future version, integer keys will always be treated as labels (consistent with DataFrame behavior). To access a value by position, use `ser.iloc[pos]`\n",
      "  if data.count()[i] != data.shape[0]:\n",
      "C:\\Users\\aniri\\AppData\\Local\\Temp\\ipykernel_12800\\1331978564.py:4: FutureWarning: Series.__getitem__ treating keys as positions is deprecated. In a future version, integer keys will always be treated as labels (consistent with DataFrame behavior). To access a value by position, use `ser.iloc[pos]`\n",
      "  if data.count()[i] != data.shape[0]:\n",
      "C:\\Users\\aniri\\AppData\\Local\\Temp\\ipykernel_12800\\1331978564.py:4: FutureWarning: Series.__getitem__ treating keys as positions is deprecated. In a future version, integer keys will always be treated as labels (consistent with DataFrame behavior). To access a value by position, use `ser.iloc[pos]`\n",
      "  if data.count()[i] != data.shape[0]:\n",
      "C:\\Users\\aniri\\AppData\\Local\\Temp\\ipykernel_12800\\1331978564.py:4: FutureWarning: Series.__getitem__ treating keys as positions is deprecated. In a future version, integer keys will always be treated as labels (consistent with DataFrame behavior). To access a value by position, use `ser.iloc[pos]`\n",
      "  if data.count()[i] != data.shape[0]:\n",
      "C:\\Users\\aniri\\AppData\\Local\\Temp\\ipykernel_12800\\1331978564.py:4: FutureWarning: Series.__getitem__ treating keys as positions is deprecated. In a future version, integer keys will always be treated as labels (consistent with DataFrame behavior). To access a value by position, use `ser.iloc[pos]`\n",
      "  if data.count()[i] != data.shape[0]:\n",
      "C:\\Users\\aniri\\AppData\\Local\\Temp\\ipykernel_12800\\1331978564.py:4: FutureWarning: Series.__getitem__ treating keys as positions is deprecated. In a future version, integer keys will always be treated as labels (consistent with DataFrame behavior). To access a value by position, use `ser.iloc[pos]`\n",
      "  if data.count()[i] != data.shape[0]:\n",
      "C:\\Users\\aniri\\AppData\\Local\\Temp\\ipykernel_12800\\1331978564.py:4: FutureWarning: Series.__getitem__ treating keys as positions is deprecated. In a future version, integer keys will always be treated as labels (consistent with DataFrame behavior). To access a value by position, use `ser.iloc[pos]`\n",
      "  if data.count()[i] != data.shape[0]:\n",
      "C:\\Users\\aniri\\AppData\\Local\\Temp\\ipykernel_12800\\1331978564.py:4: FutureWarning: Series.__getitem__ treating keys as positions is deprecated. In a future version, integer keys will always be treated as labels (consistent with DataFrame behavior). To access a value by position, use `ser.iloc[pos]`\n",
      "  if data.count()[i] != data.shape[0]:\n",
      "C:\\Users\\aniri\\AppData\\Local\\Temp\\ipykernel_12800\\1331978564.py:4: FutureWarning: Series.__getitem__ treating keys as positions is deprecated. In a future version, integer keys will always be treated as labels (consistent with DataFrame behavior). To access a value by position, use `ser.iloc[pos]`\n",
      "  if data.count()[i] != data.shape[0]:\n",
      "C:\\Users\\aniri\\AppData\\Local\\Temp\\ipykernel_12800\\1331978564.py:4: FutureWarning: Series.__getitem__ treating keys as positions is deprecated. In a future version, integer keys will always be treated as labels (consistent with DataFrame behavior). To access a value by position, use `ser.iloc[pos]`\n",
      "  if data.count()[i] != data.shape[0]:\n",
      "C:\\Users\\aniri\\AppData\\Local\\Temp\\ipykernel_12800\\1331978564.py:4: FutureWarning: Series.__getitem__ treating keys as positions is deprecated. In a future version, integer keys will always be treated as labels (consistent with DataFrame behavior). To access a value by position, use `ser.iloc[pos]`\n",
      "  if data.count()[i] != data.shape[0]:\n",
      "C:\\Users\\aniri\\AppData\\Local\\Temp\\ipykernel_12800\\1331978564.py:4: FutureWarning: Series.__getitem__ treating keys as positions is deprecated. In a future version, integer keys will always be treated as labels (consistent with DataFrame behavior). To access a value by position, use `ser.iloc[pos]`\n",
      "  if data.count()[i] != data.shape[0]:\n",
      "C:\\Users\\aniri\\AppData\\Local\\Temp\\ipykernel_12800\\1331978564.py:4: FutureWarning: Series.__getitem__ treating keys as positions is deprecated. In a future version, integer keys will always be treated as labels (consistent with DataFrame behavior). To access a value by position, use `ser.iloc[pos]`\n",
      "  if data.count()[i] != data.shape[0]:\n",
      "C:\\Users\\aniri\\AppData\\Local\\Temp\\ipykernel_12800\\1331978564.py:4: FutureWarning: Series.__getitem__ treating keys as positions is deprecated. In a future version, integer keys will always be treated as labels (consistent with DataFrame behavior). To access a value by position, use `ser.iloc[pos]`\n",
      "  if data.count()[i] != data.shape[0]:\n",
      "C:\\Users\\aniri\\AppData\\Local\\Temp\\ipykernel_12800\\1331978564.py:4: FutureWarning: Series.__getitem__ treating keys as positions is deprecated. In a future version, integer keys will always be treated as labels (consistent with DataFrame behavior). To access a value by position, use `ser.iloc[pos]`\n",
      "  if data.count()[i] != data.shape[0]:\n",
      "C:\\Users\\aniri\\AppData\\Local\\Temp\\ipykernel_12800\\1331978564.py:4: FutureWarning: Series.__getitem__ treating keys as positions is deprecated. In a future version, integer keys will always be treated as labels (consistent with DataFrame behavior). To access a value by position, use `ser.iloc[pos]`\n",
      "  if data.count()[i] != data.shape[0]:\n",
      "C:\\Users\\aniri\\AppData\\Local\\Temp\\ipykernel_12800\\1331978564.py:4: FutureWarning: Series.__getitem__ treating keys as positions is deprecated. In a future version, integer keys will always be treated as labels (consistent with DataFrame behavior). To access a value by position, use `ser.iloc[pos]`\n",
      "  if data.count()[i] != data.shape[0]:\n",
      "C:\\Users\\aniri\\AppData\\Local\\Temp\\ipykernel_12800\\1331978564.py:4: FutureWarning: Series.__getitem__ treating keys as positions is deprecated. In a future version, integer keys will always be treated as labels (consistent with DataFrame behavior). To access a value by position, use `ser.iloc[pos]`\n",
      "  if data.count()[i] != data.shape[0]:\n",
      "C:\\Users\\aniri\\AppData\\Local\\Temp\\ipykernel_12800\\1331978564.py:4: FutureWarning: Series.__getitem__ treating keys as positions is deprecated. In a future version, integer keys will always be treated as labels (consistent with DataFrame behavior). To access a value by position, use `ser.iloc[pos]`\n",
      "  if data.count()[i] != data.shape[0]:\n",
      "C:\\Users\\aniri\\AppData\\Local\\Temp\\ipykernel_12800\\1331978564.py:4: FutureWarning: Series.__getitem__ treating keys as positions is deprecated. In a future version, integer keys will always be treated as labels (consistent with DataFrame behavior). To access a value by position, use `ser.iloc[pos]`\n",
      "  if data.count()[i] != data.shape[0]:\n",
      "C:\\Users\\aniri\\AppData\\Local\\Temp\\ipykernel_12800\\1331978564.py:4: FutureWarning: Series.__getitem__ treating keys as positions is deprecated. In a future version, integer keys will always be treated as labels (consistent with DataFrame behavior). To access a value by position, use `ser.iloc[pos]`\n",
      "  if data.count()[i] != data.shape[0]:\n",
      "C:\\Users\\aniri\\AppData\\Local\\Temp\\ipykernel_12800\\1331978564.py:4: FutureWarning: Series.__getitem__ treating keys as positions is deprecated. In a future version, integer keys will always be treated as labels (consistent with DataFrame behavior). To access a value by position, use `ser.iloc[pos]`\n",
      "  if data.count()[i] != data.shape[0]:\n",
      "C:\\Users\\aniri\\AppData\\Local\\Temp\\ipykernel_12800\\1331978564.py:4: FutureWarning: Series.__getitem__ treating keys as positions is deprecated. In a future version, integer keys will always be treated as labels (consistent with DataFrame behavior). To access a value by position, use `ser.iloc[pos]`\n",
      "  if data.count()[i] != data.shape[0]:\n",
      "C:\\Users\\aniri\\AppData\\Local\\Temp\\ipykernel_12800\\1331978564.py:4: FutureWarning: Series.__getitem__ treating keys as positions is deprecated. In a future version, integer keys will always be treated as labels (consistent with DataFrame behavior). To access a value by position, use `ser.iloc[pos]`\n",
      "  if data.count()[i] != data.shape[0]:\n",
      "C:\\Users\\aniri\\AppData\\Local\\Temp\\ipykernel_12800\\1331978564.py:4: FutureWarning: Series.__getitem__ treating keys as positions is deprecated. In a future version, integer keys will always be treated as labels (consistent with DataFrame behavior). To access a value by position, use `ser.iloc[pos]`\n",
      "  if data.count()[i] != data.shape[0]:\n",
      "C:\\Users\\aniri\\AppData\\Local\\Temp\\ipykernel_12800\\1331978564.py:4: FutureWarning: Series.__getitem__ treating keys as positions is deprecated. In a future version, integer keys will always be treated as labels (consistent with DataFrame behavior). To access a value by position, use `ser.iloc[pos]`\n",
      "  if data.count()[i] != data.shape[0]:\n",
      "C:\\Users\\aniri\\AppData\\Local\\Temp\\ipykernel_12800\\1331978564.py:4: FutureWarning: Series.__getitem__ treating keys as positions is deprecated. In a future version, integer keys will always be treated as labels (consistent with DataFrame behavior). To access a value by position, use `ser.iloc[pos]`\n",
      "  if data.count()[i] != data.shape[0]:\n",
      "C:\\Users\\aniri\\AppData\\Local\\Temp\\ipykernel_12800\\1331978564.py:4: FutureWarning: Series.__getitem__ treating keys as positions is deprecated. In a future version, integer keys will always be treated as labels (consistent with DataFrame behavior). To access a value by position, use `ser.iloc[pos]`\n",
      "  if data.count()[i] != data.shape[0]:\n",
      "C:\\Users\\aniri\\AppData\\Local\\Temp\\ipykernel_12800\\1331978564.py:4: FutureWarning: Series.__getitem__ treating keys as positions is deprecated. In a future version, integer keys will always be treated as labels (consistent with DataFrame behavior). To access a value by position, use `ser.iloc[pos]`\n",
      "  if data.count()[i] != data.shape[0]:\n",
      "C:\\Users\\aniri\\AppData\\Local\\Temp\\ipykernel_12800\\1331978564.py:4: FutureWarning: Series.__getitem__ treating keys as positions is deprecated. In a future version, integer keys will always be treated as labels (consistent with DataFrame behavior). To access a value by position, use `ser.iloc[pos]`\n",
      "  if data.count()[i] != data.shape[0]:\n",
      "C:\\Users\\aniri\\AppData\\Local\\Temp\\ipykernel_12800\\1331978564.py:4: FutureWarning: Series.__getitem__ treating keys as positions is deprecated. In a future version, integer keys will always be treated as labels (consistent with DataFrame behavior). To access a value by position, use `ser.iloc[pos]`\n",
      "  if data.count()[i] != data.shape[0]:\n",
      "C:\\Users\\aniri\\AppData\\Local\\Temp\\ipykernel_12800\\1331978564.py:4: FutureWarning: Series.__getitem__ treating keys as positions is deprecated. In a future version, integer keys will always be treated as labels (consistent with DataFrame behavior). To access a value by position, use `ser.iloc[pos]`\n",
      "  if data.count()[i] != data.shape[0]:\n",
      "C:\\Users\\aniri\\AppData\\Local\\Temp\\ipykernel_12800\\1331978564.py:4: FutureWarning: Series.__getitem__ treating keys as positions is deprecated. In a future version, integer keys will always be treated as labels (consistent with DataFrame behavior). To access a value by position, use `ser.iloc[pos]`\n",
      "  if data.count()[i] != data.shape[0]:\n",
      "C:\\Users\\aniri\\AppData\\Local\\Temp\\ipykernel_12800\\1331978564.py:4: FutureWarning: Series.__getitem__ treating keys as positions is deprecated. In a future version, integer keys will always be treated as labels (consistent with DataFrame behavior). To access a value by position, use `ser.iloc[pos]`\n",
      "  if data.count()[i] != data.shape[0]:\n",
      "C:\\Users\\aniri\\AppData\\Local\\Temp\\ipykernel_12800\\1331978564.py:4: FutureWarning: Series.__getitem__ treating keys as positions is deprecated. In a future version, integer keys will always be treated as labels (consistent with DataFrame behavior). To access a value by position, use `ser.iloc[pos]`\n",
      "  if data.count()[i] != data.shape[0]:\n",
      "C:\\Users\\aniri\\AppData\\Local\\Temp\\ipykernel_12800\\1331978564.py:4: FutureWarning: Series.__getitem__ treating keys as positions is deprecated. In a future version, integer keys will always be treated as labels (consistent with DataFrame behavior). To access a value by position, use `ser.iloc[pos]`\n",
      "  if data.count()[i] != data.shape[0]:\n",
      "C:\\Users\\aniri\\AppData\\Local\\Temp\\ipykernel_12800\\1331978564.py:4: FutureWarning: Series.__getitem__ treating keys as positions is deprecated. In a future version, integer keys will always be treated as labels (consistent with DataFrame behavior). To access a value by position, use `ser.iloc[pos]`\n",
      "  if data.count()[i] != data.shape[0]:\n",
      "C:\\Users\\aniri\\AppData\\Local\\Temp\\ipykernel_12800\\1331978564.py:4: FutureWarning: Series.__getitem__ treating keys as positions is deprecated. In a future version, integer keys will always be treated as labels (consistent with DataFrame behavior). To access a value by position, use `ser.iloc[pos]`\n",
      "  if data.count()[i] != data.shape[0]:\n",
      "C:\\Users\\aniri\\AppData\\Local\\Temp\\ipykernel_12800\\1331978564.py:4: FutureWarning: Series.__getitem__ treating keys as positions is deprecated. In a future version, integer keys will always be treated as labels (consistent with DataFrame behavior). To access a value by position, use `ser.iloc[pos]`\n",
      "  if data.count()[i] != data.shape[0]:\n",
      "C:\\Users\\aniri\\AppData\\Local\\Temp\\ipykernel_12800\\1331978564.py:4: FutureWarning: Series.__getitem__ treating keys as positions is deprecated. In a future version, integer keys will always be treated as labels (consistent with DataFrame behavior). To access a value by position, use `ser.iloc[pos]`\n",
      "  if data.count()[i] != data.shape[0]:\n",
      "C:\\Users\\aniri\\AppData\\Local\\Temp\\ipykernel_12800\\1331978564.py:4: FutureWarning: Series.__getitem__ treating keys as positions is deprecated. In a future version, integer keys will always be treated as labels (consistent with DataFrame behavior). To access a value by position, use `ser.iloc[pos]`\n",
      "  if data.count()[i] != data.shape[0]:\n",
      "C:\\Users\\aniri\\AppData\\Local\\Temp\\ipykernel_12800\\1331978564.py:4: FutureWarning: Series.__getitem__ treating keys as positions is deprecated. In a future version, integer keys will always be treated as labels (consistent with DataFrame behavior). To access a value by position, use `ser.iloc[pos]`\n",
      "  if data.count()[i] != data.shape[0]:\n",
      "C:\\Users\\aniri\\AppData\\Local\\Temp\\ipykernel_12800\\1331978564.py:4: FutureWarning: Series.__getitem__ treating keys as positions is deprecated. In a future version, integer keys will always be treated as labels (consistent with DataFrame behavior). To access a value by position, use `ser.iloc[pos]`\n",
      "  if data.count()[i] != data.shape[0]:\n",
      "C:\\Users\\aniri\\AppData\\Local\\Temp\\ipykernel_12800\\1331978564.py:4: FutureWarning: Series.__getitem__ treating keys as positions is deprecated. In a future version, integer keys will always be treated as labels (consistent with DataFrame behavior). To access a value by position, use `ser.iloc[pos]`\n",
      "  if data.count()[i] != data.shape[0]:\n",
      "C:\\Users\\aniri\\AppData\\Local\\Temp\\ipykernel_12800\\1331978564.py:4: FutureWarning: Series.__getitem__ treating keys as positions is deprecated. In a future version, integer keys will always be treated as labels (consistent with DataFrame behavior). To access a value by position, use `ser.iloc[pos]`\n",
      "  if data.count()[i] != data.shape[0]:\n",
      "C:\\Users\\aniri\\AppData\\Local\\Temp\\ipykernel_12800\\1331978564.py:4: FutureWarning: Series.__getitem__ treating keys as positions is deprecated. In a future version, integer keys will always be treated as labels (consistent with DataFrame behavior). To access a value by position, use `ser.iloc[pos]`\n",
      "  if data.count()[i] != data.shape[0]:\n",
      "C:\\Users\\aniri\\AppData\\Local\\Temp\\ipykernel_12800\\1331978564.py:4: FutureWarning: Series.__getitem__ treating keys as positions is deprecated. In a future version, integer keys will always be treated as labels (consistent with DataFrame behavior). To access a value by position, use `ser.iloc[pos]`\n",
      "  if data.count()[i] != data.shape[0]:\n",
      "C:\\Users\\aniri\\AppData\\Local\\Temp\\ipykernel_12800\\1331978564.py:4: FutureWarning: Series.__getitem__ treating keys as positions is deprecated. In a future version, integer keys will always be treated as labels (consistent with DataFrame behavior). To access a value by position, use `ser.iloc[pos]`\n",
      "  if data.count()[i] != data.shape[0]:\n",
      "C:\\Users\\aniri\\AppData\\Local\\Temp\\ipykernel_12800\\1331978564.py:4: FutureWarning: Series.__getitem__ treating keys as positions is deprecated. In a future version, integer keys will always be treated as labels (consistent with DataFrame behavior). To access a value by position, use `ser.iloc[pos]`\n",
      "  if data.count()[i] != data.shape[0]:\n",
      "C:\\Users\\aniri\\AppData\\Local\\Temp\\ipykernel_12800\\1331978564.py:4: FutureWarning: Series.__getitem__ treating keys as positions is deprecated. In a future version, integer keys will always be treated as labels (consistent with DataFrame behavior). To access a value by position, use `ser.iloc[pos]`\n",
      "  if data.count()[i] != data.shape[0]:\n",
      "C:\\Users\\aniri\\AppData\\Local\\Temp\\ipykernel_12800\\1331978564.py:4: FutureWarning: Series.__getitem__ treating keys as positions is deprecated. In a future version, integer keys will always be treated as labels (consistent with DataFrame behavior). To access a value by position, use `ser.iloc[pos]`\n",
      "  if data.count()[i] != data.shape[0]:\n"
     ]
    },
    {
     "name": "stdout",
     "output_type": "stream",
     "text": [
      "first_blood_time\n",
      "first_blood_team\n",
      "first_blood_player1\n",
      "first_blood_player2\n",
      "radiant_bottle_time\n",
      "radiant_courier_time\n",
      "radiant_flying_courier_time\n"
     ]
    },
    {
     "name": "stderr",
     "output_type": "stream",
     "text": [
      "C:\\Users\\aniri\\AppData\\Local\\Temp\\ipykernel_12800\\1331978564.py:4: FutureWarning: Series.__getitem__ treating keys as positions is deprecated. In a future version, integer keys will always be treated as labels (consistent with DataFrame behavior). To access a value by position, use `ser.iloc[pos]`\n",
      "  if data.count()[i] != data.shape[0]:\n",
      "C:\\Users\\aniri\\AppData\\Local\\Temp\\ipykernel_12800\\1331978564.py:4: FutureWarning: Series.__getitem__ treating keys as positions is deprecated. In a future version, integer keys will always be treated as labels (consistent with DataFrame behavior). To access a value by position, use `ser.iloc[pos]`\n",
      "  if data.count()[i] != data.shape[0]:\n",
      "C:\\Users\\aniri\\AppData\\Local\\Temp\\ipykernel_12800\\1331978564.py:4: FutureWarning: Series.__getitem__ treating keys as positions is deprecated. In a future version, integer keys will always be treated as labels (consistent with DataFrame behavior). To access a value by position, use `ser.iloc[pos]`\n",
      "  if data.count()[i] != data.shape[0]:\n",
      "C:\\Users\\aniri\\AppData\\Local\\Temp\\ipykernel_12800\\1331978564.py:4: FutureWarning: Series.__getitem__ treating keys as positions is deprecated. In a future version, integer keys will always be treated as labels (consistent with DataFrame behavior). To access a value by position, use `ser.iloc[pos]`\n",
      "  if data.count()[i] != data.shape[0]:\n",
      "C:\\Users\\aniri\\AppData\\Local\\Temp\\ipykernel_12800\\1331978564.py:4: FutureWarning: Series.__getitem__ treating keys as positions is deprecated. In a future version, integer keys will always be treated as labels (consistent with DataFrame behavior). To access a value by position, use `ser.iloc[pos]`\n",
      "  if data.count()[i] != data.shape[0]:\n",
      "C:\\Users\\aniri\\AppData\\Local\\Temp\\ipykernel_12800\\1331978564.py:4: FutureWarning: Series.__getitem__ treating keys as positions is deprecated. In a future version, integer keys will always be treated as labels (consistent with DataFrame behavior). To access a value by position, use `ser.iloc[pos]`\n",
      "  if data.count()[i] != data.shape[0]:\n",
      "C:\\Users\\aniri\\AppData\\Local\\Temp\\ipykernel_12800\\1331978564.py:4: FutureWarning: Series.__getitem__ treating keys as positions is deprecated. In a future version, integer keys will always be treated as labels (consistent with DataFrame behavior). To access a value by position, use `ser.iloc[pos]`\n",
      "  if data.count()[i] != data.shape[0]:\n",
      "C:\\Users\\aniri\\AppData\\Local\\Temp\\ipykernel_12800\\1331978564.py:4: FutureWarning: Series.__getitem__ treating keys as positions is deprecated. In a future version, integer keys will always be treated as labels (consistent with DataFrame behavior). To access a value by position, use `ser.iloc[pos]`\n",
      "  if data.count()[i] != data.shape[0]:\n",
      "C:\\Users\\aniri\\AppData\\Local\\Temp\\ipykernel_12800\\1331978564.py:4: FutureWarning: Series.__getitem__ treating keys as positions is deprecated. In a future version, integer keys will always be treated as labels (consistent with DataFrame behavior). To access a value by position, use `ser.iloc[pos]`\n",
      "  if data.count()[i] != data.shape[0]:\n",
      "C:\\Users\\aniri\\AppData\\Local\\Temp\\ipykernel_12800\\1331978564.py:4: FutureWarning: Series.__getitem__ treating keys as positions is deprecated. In a future version, integer keys will always be treated as labels (consistent with DataFrame behavior). To access a value by position, use `ser.iloc[pos]`\n",
      "  if data.count()[i] != data.shape[0]:\n",
      "C:\\Users\\aniri\\AppData\\Local\\Temp\\ipykernel_12800\\1331978564.py:4: FutureWarning: Series.__getitem__ treating keys as positions is deprecated. In a future version, integer keys will always be treated as labels (consistent with DataFrame behavior). To access a value by position, use `ser.iloc[pos]`\n",
      "  if data.count()[i] != data.shape[0]:\n"
     ]
    },
    {
     "name": "stdout",
     "output_type": "stream",
     "text": [
      "radiant_first_ward_time\n",
      "dire_bottle_time\n",
      "dire_courier_time\n",
      "dire_flying_courier_time\n",
      "dire_first_ward_time\n"
     ]
    },
    {
     "name": "stderr",
     "output_type": "stream",
     "text": [
      "C:\\Users\\aniri\\AppData\\Local\\Temp\\ipykernel_12800\\1331978564.py:4: FutureWarning: Series.__getitem__ treating keys as positions is deprecated. In a future version, integer keys will always be treated as labels (consistent with DataFrame behavior). To access a value by position, use `ser.iloc[pos]`\n",
      "  if data.count()[i] != data.shape[0]:\n",
      "C:\\Users\\aniri\\AppData\\Local\\Temp\\ipykernel_12800\\1331978564.py:4: FutureWarning: Series.__getitem__ treating keys as positions is deprecated. In a future version, integer keys will always be treated as labels (consistent with DataFrame behavior). To access a value by position, use `ser.iloc[pos]`\n",
      "  if data.count()[i] != data.shape[0]:\n",
      "C:\\Users\\aniri\\AppData\\Local\\Temp\\ipykernel_12800\\1331978564.py:4: FutureWarning: Series.__getitem__ treating keys as positions is deprecated. In a future version, integer keys will always be treated as labels (consistent with DataFrame behavior). To access a value by position, use `ser.iloc[pos]`\n",
      "  if data.count()[i] != data.shape[0]:\n",
      "C:\\Users\\aniri\\AppData\\Local\\Temp\\ipykernel_12800\\1331978564.py:4: FutureWarning: Series.__getitem__ treating keys as positions is deprecated. In a future version, integer keys will always be treated as labels (consistent with DataFrame behavior). To access a value by position, use `ser.iloc[pos]`\n",
      "  if data.count()[i] != data.shape[0]:\n",
      "C:\\Users\\aniri\\AppData\\Local\\Temp\\ipykernel_12800\\1331978564.py:4: FutureWarning: Series.__getitem__ treating keys as positions is deprecated. In a future version, integer keys will always be treated as labels (consistent with DataFrame behavior). To access a value by position, use `ser.iloc[pos]`\n",
      "  if data.count()[i] != data.shape[0]:\n",
      "C:\\Users\\aniri\\AppData\\Local\\Temp\\ipykernel_12800\\1331978564.py:4: FutureWarning: Series.__getitem__ treating keys as positions is deprecated. In a future version, integer keys will always be treated as labels (consistent with DataFrame behavior). To access a value by position, use `ser.iloc[pos]`\n",
      "  if data.count()[i] != data.shape[0]:\n",
      "C:\\Users\\aniri\\AppData\\Local\\Temp\\ipykernel_12800\\1331978564.py:4: FutureWarning: Series.__getitem__ treating keys as positions is deprecated. In a future version, integer keys will always be treated as labels (consistent with DataFrame behavior). To access a value by position, use `ser.iloc[pos]`\n",
      "  if data.count()[i] != data.shape[0]:\n",
      "C:\\Users\\aniri\\AppData\\Local\\Temp\\ipykernel_12800\\1331978564.py:4: FutureWarning: Series.__getitem__ treating keys as positions is deprecated. In a future version, integer keys will always be treated as labels (consistent with DataFrame behavior). To access a value by position, use `ser.iloc[pos]`\n",
      "  if data.count()[i] != data.shape[0]:\n",
      "C:\\Users\\aniri\\AppData\\Local\\Temp\\ipykernel_12800\\1331978564.py:4: FutureWarning: Series.__getitem__ treating keys as positions is deprecated. In a future version, integer keys will always be treated as labels (consistent with DataFrame behavior). To access a value by position, use `ser.iloc[pos]`\n",
      "  if data.count()[i] != data.shape[0]:\n",
      "C:\\Users\\aniri\\AppData\\Local\\Temp\\ipykernel_12800\\1331978564.py:4: FutureWarning: Series.__getitem__ treating keys as positions is deprecated. In a future version, integer keys will always be treated as labels (consistent with DataFrame behavior). To access a value by position, use `ser.iloc[pos]`\n",
      "  if data.count()[i] != data.shape[0]:\n",
      "C:\\Users\\aniri\\AppData\\Local\\Temp\\ipykernel_12800\\1331978564.py:4: FutureWarning: Series.__getitem__ treating keys as positions is deprecated. In a future version, integer keys will always be treated as labels (consistent with DataFrame behavior). To access a value by position, use `ser.iloc[pos]`\n",
      "  if data.count()[i] != data.shape[0]:\n",
      "C:\\Users\\aniri\\AppData\\Local\\Temp\\ipykernel_12800\\1331978564.py:4: FutureWarning: Series.__getitem__ treating keys as positions is deprecated. In a future version, integer keys will always be treated as labels (consistent with DataFrame behavior). To access a value by position, use `ser.iloc[pos]`\n",
      "  if data.count()[i] != data.shape[0]:\n",
      "C:\\Users\\aniri\\AppData\\Local\\Temp\\ipykernel_12800\\1331978564.py:4: FutureWarning: Series.__getitem__ treating keys as positions is deprecated. In a future version, integer keys will always be treated as labels (consistent with DataFrame behavior). To access a value by position, use `ser.iloc[pos]`\n",
      "  if data.count()[i] != data.shape[0]:\n",
      "C:\\Users\\aniri\\AppData\\Local\\Temp\\ipykernel_12800\\1331978564.py:4: FutureWarning: Series.__getitem__ treating keys as positions is deprecated. In a future version, integer keys will always be treated as labels (consistent with DataFrame behavior). To access a value by position, use `ser.iloc[pos]`\n",
      "  if data.count()[i] != data.shape[0]:\n"
     ]
    }
   ],
   "source": [
    "data = pd.read_csv(\"data/features.csv\", index_col='match_id')\n",
    "print(data)\n",
    "for i in range(data.shape[1]):\n",
    "    if data.count()[i] != data.shape[0]:\n",
    "        print(data.columns[i])"
   ]
  },
  {
   "cell_type": "markdown",
   "id": "135a2bad-9f51-4a52-ab74-2cc32772748d",
   "metadata": {},
   "source": [
    "## Градиентный бустинг"
   ]
  },
  {
   "cell_type": "markdown",
   "id": "873e6941-609a-454b-ab79-e1b612bca71f",
   "metadata": {},
   "source": [
    "### Подготовка данных для применения градиентного бустинга"
   ]
  },
  {
   "cell_type": "markdown",
   "id": "2e44d748-7c21-40b0-aec9-0142f9e52f73",
   "metadata": {},
   "source": [
    "#### Удаляю признаки, связанные с итогами матча"
   ]
  },
  {
   "cell_type": "code",
   "execution_count": 4,
   "id": "392abbb3-552b-4e16-a2eb-f3e4cfa05893",
   "metadata": {},
   "outputs": [],
   "source": [
    "data = data.fillna(0)\n",
    "data = data.sample(frac=1)\n",
    "y_train = data.iloc[0:int(data.shape[0]/10), 103]\n",
    "X_train = data.iloc[0:int(data.shape[0]/10), 0:102]"
   ]
  },
  {
   "cell_type": "markdown",
   "id": "bb2db3c2-9c21-47ec-847a-49b21de7ff74",
   "metadata": {},
   "source": [
    "#### Целевую переменную содержит столбец: 'radiant_win'"
   ]
  },
  {
   "cell_type": "markdown",
   "id": "c286fea4-e059-4e7e-b6d8-09b33a91d7de",
   "metadata": {},
   "source": [
    "### Применение градиентного бустинга с кросс-валидацией по 5-ти блокам"
   ]
  },
  {
   "cell_type": "code",
   "execution_count": 5,
   "id": "e5b87b8c-9f11-4e55-a83b-536922861133",
   "metadata": {
    "scrolled": true
   },
   "outputs": [
    {
     "name": "stdout",
     "output_type": "stream",
     "text": [
      "0.6652415831592562\n",
      "0.6788854431614046\n",
      "0.678107354456231\n",
      "0.6738558393260439\n",
      "0.6785805154064064\n",
      "0.6746820764989441\n",
      "0.6699331414356047\n",
      "0.6713738150655237\n",
      "0.6664341879849923\n",
      "0.6692470514975328\n"
     ]
    }
   ],
   "source": [
    "#градиентный бустинг от 10 до 100\n",
    "\n",
    "kf = sklearn.model_selection.KFold(n_splits=5, shuffle=True)\n",
    "est = np.arange(10, 110, 10)\n",
    "for i in range(len(est)):\n",
    "    clf = sklearn.ensemble.GradientBoostingClassifier(learning_rate=0.9, n_estimators=est[i], verbose=0, max_depth=2)\n",
    "    metric_c = sklearn.model_selection.cross_val_score(clf, X_train, y_train, scoring=rocauc, cv=kf)\n",
    "    print(sum(metric_c)/len(metric_c))"
   ]
  },
  {
   "cell_type": "markdown",
   "id": "20cebc7d-8042-4408-8115-52b8afaaaa3c",
   "metadata": {},
   "source": [
    "## Логистическая регрессия"
   ]
  },
  {
   "cell_type": "markdown",
   "id": "90ffe1f1-70cf-4f1d-a30c-ae7edaa0285e",
   "metadata": {},
   "source": [
    "### Подготовка данных для применения логистической регрессии"
   ]
  },
  {
   "cell_type": "code",
   "execution_count": 6,
   "id": "964b97d8-df49-41e0-a935-24e6d0b60a63",
   "metadata": {},
   "outputs": [
    {
     "name": "stdout",
     "output_type": "stream",
     "text": [
      "108\n"
     ]
    },
    {
     "name": "stderr",
     "output_type": "stream",
     "text": [
      "C:\\Users\\aniri\\AppData\\Local\\Temp\\ipykernel_12800\\4291082206.py:8: FutureWarning: Series.__getitem__ treating keys as positions is deprecated. In a future version, integer keys will always be treated as labels (consistent with DataFrame behavior). To access a value by position, use `ser.iloc[pos]`\n",
      "  print(X_train.nunique()[2])\n"
     ]
    }
   ],
   "source": [
    "#логистическая регрессия\n",
    "\n",
    "y_train = data['radiant_win']\n",
    "X_train = data.iloc[:, 0:102]\n",
    "\n",
    "X_train.index = [i for i in range(data.shape[0])]\n",
    "\n",
    "print(X_train.nunique()[2])"
   ]
  },
  {
   "cell_type": "markdown",
   "id": "2f92c8ec-0293-4d80-9fc1-1b1cedb90ace",
   "metadata": {},
   "source": [
    "### Применение логистической регрессии"
   ]
  },
  {
   "cell_type": "markdown",
   "id": "2cee1668-e16c-48fe-a5a1-7968cfa38dab",
   "metadata": {},
   "source": [
    "### Подсчёт кол-ва героев"
   ]
  },
  {
   "cell_type": "code",
   "execution_count": 7,
   "id": "de95855e-7cfe-48fb-bd81-655665556619",
   "metadata": {},
   "outputs": [
    {
     "name": "stderr",
     "output_type": "stream",
     "text": [
      "C:\\Users\\aniri\\AppData\\Local\\Temp\\ipykernel_12800\\1503049096.py:2: FutureWarning: Series.__getitem__ treating keys as positions is deprecated. In a future version, integer keys will always be treated as labels (consistent with DataFrame behavior). To access a value by position, use `ser.iloc[pos]`\n",
      "  X_pick = np.zeros((data.shape[0], X_train.nunique()[2]))\n"
     ]
    }
   ],
   "source": [
    "# N — количество различных героев в выборке\n",
    "X_pick = np.zeros((data.shape[0], X_train.nunique()[2]))"
   ]
  },
  {
   "cell_type": "markdown",
   "id": "9d0bc913-dcc2-4d0c-8b08-42227316a0dc",
   "metadata": {},
   "source": [
    "### Перенумерация id героев"
   ]
  },
  {
   "cell_type": "code",
   "execution_count": 8,
   "id": "f33d18fa-8004-4a56-8799-657a4dcb069d",
   "metadata": {},
   "outputs": [],
   "source": [
    "#Перенумерация id героев\n",
    "num1 = [i+1 for i in range(23)]\n",
    "num2 = [i for i in range(25, 107)]\n",
    "num3 = [109, 110]\n",
    "num4 = [112]\n",
    "\n",
    "for j in range(2, 75, 8):\n",
    "    for i in range(data.shape[0]):\n",
    "        if data.iloc[i, j] in num1:\n",
    "            data.iloc[i, j] = data.iloc[i, j]\n",
    "        elif data.iloc[i, j] in num2:\n",
    "            data.iloc[i, j] = data.iloc[i, j] - 1\n",
    "        elif data.iloc[i, j] in num3:\n",
    "            data.iloc[i, j] = data.iloc[i, j] - 3\n",
    "        else: data.iloc[i, j] = data.iloc[i, j] - 4"
   ]
  },
  {
   "cell_type": "markdown",
   "id": "2cec1322-db92-4688-93ab-14b6bf4605dd",
   "metadata": {},
   "source": [
    "### Реализация мешка слов"
   ]
  },
  {
   "cell_type": "code",
   "execution_count": 9,
   "id": "3965dc5e-c81a-463f-bdb3-e37c964d3936",
   "metadata": {},
   "outputs": [],
   "source": [
    "#реализация мешка слов\n",
    "for i, match_id in enumerate(data.index):\n",
    "    for p in range(5):\n",
    "        X_pick[i, data.loc[match_id, 'r%d_hero' % (p+1)]-1] = 1\n",
    "        X_pick[i, data.loc[match_id, 'd%d_hero' % (p+1)]-1] = -1\n",
    "\n",
    "X_train_drop = X_train.drop(columns=['lobby_type', 'r1_hero', 'r2_hero', 'r3_hero', 'r4_hero', 'r5_hero', 'd1_hero', 'd2_hero', 'd3_hero', 'd4_hero', 'd5_hero'])\n",
    "\n",
    "X_pick = pd.DataFrame(X_pick)\n",
    "X_train_new = X_train_drop.join(X_pick)\n",
    "X_train_new.columns = X_train_new.columns.astype(str)"
   ]
  },
  {
   "cell_type": "markdown",
   "id": "0551b886-5707-4bd8-9ef2-de96d3e4a5a6",
   "metadata": {},
   "source": [
    "### Нормализация признаков для применения логистической регрессии"
   ]
  },
  {
   "cell_type": "code",
   "execution_count": 10,
   "id": "0155c919-4df0-4fd2-97e2-e0b7cbaad5f4",
   "metadata": {},
   "outputs": [],
   "source": [
    "#нормализация признаков\n",
    "scaler = sklearn.preprocessing.StandardScaler()\n",
    "\n",
    "X_train_scaled = scaler.fit_transform(X_train_new)"
   ]
  },
  {
   "cell_type": "markdown",
   "id": "af1c28b8-4af4-4087-b6f7-fd2acf6ecd36",
   "metadata": {},
   "source": [
    "### Выбор лучшего параметра C l2-регуляризации"
   ]
  },
  {
   "cell_type": "code",
   "execution_count": 11,
   "id": "77e53b1b-7fd2-49da-a63e-a68ecd33c386",
   "metadata": {},
   "outputs": [
    {
     "name": "stdout",
     "output_type": "stream",
     "text": [
      "0.7519127285110406\n"
     ]
    }
   ],
   "source": [
    "#выбор лучшего параметра C l2-регуляризации\n",
    "grid = {'C': np.power(2.0, np.arange(-5, 5))}\n",
    "logreg = sklearn.linear_model.LogisticRegression()\n",
    "gs = sklearn.model_selection.GridSearchCV(logreg, grid, scoring=rocauc, cv=kf)\n",
    "gs.fit(X_train_scaled, y_train)\n",
    "logreg = sklearn.linear_model.LogisticRegression(C=gs.best_params_['C'])\n",
    "metric_l = sklearn.model_selection.cross_val_score(logreg, X_train_scaled, y_train, scoring=rocauc, cv=kf)\n",
    "print(sum(metric_l)/len(metric_l))"
   ]
  },
  {
   "cell_type": "markdown",
   "id": "7951b129-0af3-42f9-b5b2-d09df525682d",
   "metadata": {},
   "source": [
    "### Применение к тестовым данным"
   ]
  },
  {
   "cell_type": "code",
   "execution_count": 12,
   "id": "f7c5a8fe-69bf-4266-8bfd-332e44b0ae1e",
   "metadata": {},
   "outputs": [
    {
     "name": "stderr",
     "output_type": "stream",
     "text": [
      "C:\\Users\\aniri\\AppData\\Local\\Temp\\ipykernel_12800\\2472328998.py:7: FutureWarning: Series.__getitem__ treating keys as positions is deprecated. In a future version, integer keys will always be treated as labels (consistent with DataFrame behavior). To access a value by position, use `ser.iloc[pos]`\n",
      "  X_pick = np.zeros((data_test.shape[0], X_test.nunique()[2]))\n"
     ]
    }
   ],
   "source": [
    "#теперь всё это прогоняем на тестовых данных\n",
    "data_test = pd.read_csv(\"data/features_test.csv\", index_col='match_id')\n",
    "data_test = data_test.fillna(0)\n",
    "X_test = data_test.iloc[:, 0:102]\n",
    "X_test.index = [i for i in range(data_test.shape[0])]\n",
    "\n",
    "X_pick = np.zeros((data_test.shape[0], X_test.nunique()[2]))\n",
    "\n",
    "num1 = [i+1 for i in range(23)]\n",
    "num2 = [i for i in range(25, 107)]\n",
    "num3 = [109, 110]\n",
    "num4 = [112]\n",
    "\n",
    "for j in range(2, 75, 8):\n",
    "    for i in range(data_test.shape[0]):\n",
    "        if data_test.iloc[i, j] in num1:\n",
    "            data_test.iloc[i, j] = data_test.iloc[i, j]\n",
    "        elif data_test.iloc[i, j] in num2:\n",
    "            data_test.iloc[i, j] = data_test.iloc[i, j] - 1\n",
    "        elif data_test.iloc[i, j] in num3:\n",
    "            data_test.iloc[i, j] = data_test.iloc[i, j] - 3\n",
    "        else: data_test.iloc[i, j] = data_test.iloc[i, j] - 4\n",
    "\n",
    "for i, match_id in enumerate(data_test.index):\n",
    "    for p in range(5):\n",
    "        X_pick[i, data_test.loc[match_id, 'r%d_hero' % (p+1)]-1] = 1\n",
    "        X_pick[i, data_test.loc[match_id, 'd%d_hero' % (p+1)]-1] = -1\n",
    "\n",
    "X_test_drop = X_test.drop(columns=['lobby_type', 'r1_hero', 'r2_hero', 'r3_hero', 'r4_hero', 'r5_hero', 'd1_hero', 'd2_hero', 'd3_hero', 'd4_hero', 'd5_hero'])\n",
    "X_pick = pd.DataFrame(X_pick)\n",
    "X_test_new = X_test_drop.join(X_pick)\n",
    "X_test_new.columns = X_test_new.columns.astype(str)\n",
    "\n",
    "X_test_scaled = scaler.transform(X_test_new)"
   ]
  },
  {
   "cell_type": "markdown",
   "id": "a4ed8731-e886-471b-8311-e1c6e74e8eb0",
   "metadata": {},
   "source": [
    "### Обучение алгоритма логистической регрессии"
   ]
  },
  {
   "cell_type": "code",
   "execution_count": 13,
   "id": "f6788b22-a3cf-4269-831a-bf49ba892531",
   "metadata": {},
   "outputs": [
    {
     "data": {
      "text/plain": [
       "array([[0.17568649, 0.82431351],\n",
       "       [0.24620994, 0.75379006],\n",
       "       [0.81217344, 0.18782656],\n",
       "       ...,\n",
       "       [0.76388267, 0.23611733],\n",
       "       [0.37104664, 0.62895336],\n",
       "       [0.57453646, 0.42546354]])"
      ]
     },
     "execution_count": 13,
     "metadata": {},
     "output_type": "execute_result"
    }
   ],
   "source": [
    "#обучение алгоритма логистической регрессии\n",
    "logreg.fit(X_train_scaled, y_train)\n",
    "#logreg.predict_proba(X_test_scaled)"
   ]
  },
  {
   "cell_type": "markdown",
   "id": "4b54fff4-9f79-46b7-9362-0d4111835cab",
   "metadata": {},
   "source": [
    "### Вывод предсказаний о победе Radiant"
   ]
  },
  {
   "cell_type": "code",
   "execution_count": 14,
   "id": "36cccbe6-4e19-4643-b217-46e606ea80e9",
   "metadata": {},
   "outputs": [
    {
     "data": {
      "text/html": [
       "<div>\n",
       "<style scoped>\n",
       "    .dataframe tbody tr th:only-of-type {\n",
       "        vertical-align: middle;\n",
       "    }\n",
       "\n",
       "    .dataframe tbody tr th {\n",
       "        vertical-align: top;\n",
       "    }\n",
       "\n",
       "    .dataframe thead th {\n",
       "        text-align: right;\n",
       "    }\n",
       "</style>\n",
       "<table border=\"1\" class=\"dataframe\">\n",
       "  <thead>\n",
       "    <tr style=\"text-align: right;\">\n",
       "      <th></th>\n",
       "      <th>radiant_win</th>\n",
       "    </tr>\n",
       "    <tr>\n",
       "      <th>match_id</th>\n",
       "      <th></th>\n",
       "    </tr>\n",
       "  </thead>\n",
       "  <tbody>\n",
       "    <tr>\n",
       "      <th>6</th>\n",
       "      <td>0.824314</td>\n",
       "    </tr>\n",
       "    <tr>\n",
       "      <th>7</th>\n",
       "      <td>0.753790</td>\n",
       "    </tr>\n",
       "    <tr>\n",
       "      <th>10</th>\n",
       "      <td>0.187827</td>\n",
       "    </tr>\n",
       "    <tr>\n",
       "      <th>13</th>\n",
       "      <td>0.859375</td>\n",
       "    </tr>\n",
       "    <tr>\n",
       "      <th>16</th>\n",
       "      <td>0.241295</td>\n",
       "    </tr>\n",
       "    <tr>\n",
       "      <th>...</th>\n",
       "      <td>...</td>\n",
       "    </tr>\n",
       "    <tr>\n",
       "      <th>114369</th>\n",
       "      <td>0.718872</td>\n",
       "    </tr>\n",
       "    <tr>\n",
       "      <th>114377</th>\n",
       "      <td>0.631344</td>\n",
       "    </tr>\n",
       "    <tr>\n",
       "      <th>114378</th>\n",
       "      <td>0.236117</td>\n",
       "    </tr>\n",
       "    <tr>\n",
       "      <th>114393</th>\n",
       "      <td>0.628953</td>\n",
       "    </tr>\n",
       "    <tr>\n",
       "      <th>114398</th>\n",
       "      <td>0.425464</td>\n",
       "    </tr>\n",
       "  </tbody>\n",
       "</table>\n",
       "<p>17177 rows × 1 columns</p>\n",
       "</div>"
      ],
      "text/plain": [
       "          radiant_win\n",
       "match_id             \n",
       "6            0.824314\n",
       "7            0.753790\n",
       "10           0.187827\n",
       "13           0.859375\n",
       "16           0.241295\n",
       "...               ...\n",
       "114369       0.718872\n",
       "114377       0.631344\n",
       "114378       0.236117\n",
       "114393       0.628953\n",
       "114398       0.425464\n",
       "\n",
       "[17177 rows x 1 columns]"
      ]
     },
     "execution_count": 14,
     "metadata": {},
     "output_type": "execute_result"
    }
   ],
   "source": [
    "#вывод предсказаний о победе radiant\n",
    "pred = {'match_id': [data_test.index[i] for i in range(X_test_scaled.shape[0])], 'radiant_win': logreg.predict_proba(X_test_scaled)[:, 1]}\n",
    "pred = pd.DataFrame(data=pred)\n",
    "pred.set_index('match_id')"
   ]
  },
  {
   "cell_type": "code",
   "execution_count": null,
   "id": "8428cb90-e9a2-4db1-be27-9f825476f01f",
   "metadata": {},
   "outputs": [],
   "source": []
  }
 ],
 "metadata": {
  "kernelspec": {
   "display_name": "Python 3 (ipykernel)",
   "language": "python",
   "name": "python3"
  },
  "language_info": {
   "codemirror_mode": {
    "name": "ipython",
    "version": 3
   },
   "file_extension": ".py",
   "mimetype": "text/x-python",
   "name": "python",
   "nbconvert_exporter": "python",
   "pygments_lexer": "ipython3",
   "version": "3.11.1"
  }
 },
 "nbformat": 4,
 "nbformat_minor": 5
}
